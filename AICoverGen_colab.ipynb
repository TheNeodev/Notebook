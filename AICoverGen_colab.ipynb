{
  "cells": [
    {
      "cell_type": "markdown",
      "metadata": {
        "id": "view-in-github",
        "colab_type": "text"
      },
      "source": [
        "<a href=\"https://colab.research.google.com/github/TheNeodev/Notebook/blob/main/AICoverGen_colab.ipynb\" target=\"_parent\"><img src=\"https://colab.research.google.com/assets/colab-badge.svg\" alt=\"Open In Colab\"/></a>"
      ]
    },
    {
      "cell_type": "markdown",
      "source": [
        "# AICoverGen Extension WebUI\n",
        "\n",
        "This notebook sets up the AICoverGen WebUI for generating AI-based vocal covers. It clones the repository, installs dependencies, downloads models, and launches a Gradio-based interface.\n",
        "\n",
        "## Prerequisites\n",
        "- **Google Colab GPU**: Ensure you have a GPU runtime enabled (`Runtime > Change runtime type > GPU`).\n",
        "- **Storage**: At least 10 GB of free space in your Colab environment.\n",
        "- **Time**: The setup process may take 3-5 minutes depending on the Colab environment.\n",
        "\n",
        "## Instructions\n",
        "1. Click `Runtime > Run all` to execute all cells sequentially.\n",
        "2. Wait for the final cell to output a public Gradio URL (e.g., `*.gradio.app`).\n",
        "3. Click the URL to access the WebUI.\n",
        "\n",
        "## Troubleshooting\n",
        "- **Gradio URL not appearing**: Ensure the `--share` flag is active and check for network errors in the output.\n",
        "- **Dependency errors**: Restart the runtime (`Runtime > Restart runtime`) and rerun all cells.\n",
        "- **GPU not available**: Verify GPU is enabled in the runtime settings.\n",
        "- **Out of memory**: Reduce model size or restart the runtime to clear memory.\n",
        "\n",
        "For issues, check the output logs below each cell or consult the [AICoverGen repository](https://github.com/unchCrew/extension_AICoverGen) for documentation."
      ],
      "metadata": {
        "id": "YYVAKuNBc-X4"
      }
    },
    {
      "cell_type": "code",
      "execution_count": null,
      "metadata": {
        "id": "vC4gLMHI9xb3",
        "cellView": "form"
      },
      "outputs": [],
      "source": [
        "#@title Clone Repository\n",
        "from IPython.display import clear_output\n",
        "\n",
        "!git clone https://github.com/unchCrew/extension_AICoverGen HRVC\n",
        "%cd HRVC\n",
        "clear_output()\n",
        "print(\"Successfully cloned the repository to ./HRVC\")"
      ]
    },
    {
      "cell_type": "code",
      "execution_count": null,
      "metadata": {
        "cellView": "form",
        "id": "odzpJHpr_PaF"
      },
      "outputs": [],
      "source": [
        "#@title Install Dependencies\n",
        "from IPython.display import clear_output\n",
        "\n",
        "!sudo apt update\n",
        "sudo apt install python3.10\n",
        "!sudo update-alternatives --install /usr/bin/python3 python3 /usr/bin/python3.10 1\n",
        "!sudo apt update\n",
        "sudo update-alternatives --set python3 /usr/bin/python3.10\n",
        "curl -sS https://bootstrap.pypa.io/get-pip.py | python3\n"
        "import sys\n",
        "sys.path.append('/usr/local/lib/python3.10/dist-packages')\n"
        "# Install sox and Python dependencies in one go\n",
        "print(\"Installing dependencies...\")\n",
        "!apt-get install -y sox\n",
        "!pip install --no-cache-dir -r requirements.txt\n",
        "clear_output()\n",
        "print(\"All dependencies installed successfully.\")"
      ]
    },
    {
      "cell_type": "code",
      "execution_count": null,
      "metadata": {
        "cellView": "form",
        "id": "SLWpcJc0AHSZ"
      },
      "outputs": [],
      "source": [
        "#@title Download MDXNet Vocal Separation Models\n",
        "from IPython.display import clear_output\n",
        "\n",
        "print(\"Downloading vocal separation and Hubert base models...\")\n",
        "!python src/download_models.py\n",
        "clear_output()\n",
        "print(\"Successfully downloaded vocal separation and Hubert base models.\")"
      ]
    },
    {
      "cell_type": "code",
      "source": [
        "#@title Launch WebUI\n",
        "from IPython.display import clear_output\n",
        "\n",
        "# Check for GPU availability\n",
        "try:\n",
        "    import torch\n",
        "    if not torch.cuda.is_available():\n",
        "        print(\"Warning: GPU not detected. The WebUI may run slowly or fail. Ensure GPU runtime is enabled.\")\n",
        "except ImportError:\n",
        "    print(\"* Warning: PyTorch not installed. Please rerun the dependency installation cell.\")\n",
        "\n",
        "# Launch the Gradio WebUI\n",
        "print(\"* Starting the Gradio WebUI... This may take a few minutes.\")\n",
        "print(\"* Once the URL appears, click it to access the interface.\")\n",
        "!python src/webui.py --share\n",
        "clear_output()\n",
        "print(\" * WebUI launched. Check for the Gradio URL above.\")"
      ],
      "metadata": {
        "cellView": "form",
        "id": "NEglTq6Ya9d0"
      },
      "execution_count": null,
      "outputs": []
    }
  ],
  "metadata": {
    "accelerator": "GPU",
    "colab": {
      "provenance": [],
      "include_colab_link": true
    },
    "kernelspec": {
      "display_name": "Python 3",
      "name": "python3"
    },
    "language_info": {
      "name": "python"
    }
  },
  "nbformat": 4,
  "nbformat_minor": 0
}
