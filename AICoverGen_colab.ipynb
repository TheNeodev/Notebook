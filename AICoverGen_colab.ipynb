{
  "cells": [
    {
      "cell_type": "markdown",
      "metadata": {
        "id": "view-in-github",
        "colab_type": "text"
      },
      "source": [
        "<a href=\"https://colab.research.google.com/github/TheNeodev/Notebook/blob/main/AICoverGen_colab.ipynb\" target=\"_parent\"><img src=\"https://colab.research.google.com/assets/colab-badge.svg\" alt=\"Open In Colab\"/></a>"
      ]
    },
    {
      "cell_type": "markdown",
      "source": [
        "# AICoverGen Extension WebUI\n",
        "\n",
        "This notebook sets up the AICoverGen WebUI for generating AI-based vocal covers. It clones the repository, installs dependencies, downloads models, and launches a Gradio-based interface.\n",
        "\n",
        "## Prerequisites\n",
        "- **Google Colab GPU**: Ensure you have a GPU runtime enabled (`Runtime > Change runtime type > GPU`).\n",
        "- **Storage**: At least 10 GB of free space in your Colab environment.\n",
        "- **Time**: The setup process may take 3-5 minutes depending on the Colab environment.\n",
        "\n",
        "## Instructions\n",
        "1. Click `Runtime > Run all` to execute all cells sequentially.\n",
        "2. Wait for the final cell to output a public Gradio URL (e.g., `*.gradio.app`).\n",
        "3. Click the URL to access the WebUI.\n",
        "\n",
        "## Troubleshooting\n",
        "- **Gradio URL not appearing**: Ensure the `--share` flag is active and check for network errors in the output.\n",
        "- **Dependency errors**: Restart the runtime (`Runtime > Restart runtime`) and rerun all cells.\n",
        "- **GPU not available**: Verify GPU is enabled in the runtime settings.\n",
        "- **Out of memory**: Reduce model size or restart the runtime to clear memory.\n",
        "\n",
        "For issues, check the output logs below each cell or consult the [AICoverGen repository](https://github.com/unchCrew/extension_AICoverGen) for documentation."
      ],
      "metadata": {
        "id": "YYVAKuNBc-X4"
      }
    },
    {
      "cell_type": "code",
      "execution_count": null,
      "metadata": {
        "id": "vC4gLMHI9xb3",
        "cellView": "form"
      },
      "outputs": [],
      "source": [
        "#@title Clone Repository\n",
        "!git clone https://github.com/unchCrew/extension_AICoverGen HRVC\n",
        "%cd HRVC\n",
        "print(\"Successfully cloned the repository to ./HRVC\")"
      ]
    },
    {
      "cell_type": "code",
      "execution_count": null,
      "metadata": {
        "cellView": "form",
        "id": "odzpJHpr_PaF"
      },
      "outputs": [],
      "source": [
        "#@title Install Dependencies\n",
        "import sys\n",
        "import subprocess\n",
        "\n",
        "# Check Python version\n",
        "python_version = sys.version_info\n",
        "if python_version.major != 3 or python_version.minor < 10:\n",
        "    print(f\"Warning: Python {python_version.major}.{python_version.minor} detected. This notebook is optimized for Python 3.10.\")\n",
        "\n",
        "# Update apt and install sox\n",
        "!apt-get update\n",
        "!apt-get install -y sox\n",
        "\n",
        "# Install pip for Python 3.10\n",
        "!curl -sS https://bootstrap.pypa.io/get-pip.py | python3.10\n",
        "\n",
        "# Install dependencies from requirements.txt\n",
        "print(\"Installing Python dependencies...\")\n",
        "!python3.10 -m pip install --no-cache-dir -r requirements.txt\n",
        "\n",
        "print(\"All dependencies installed successfully.\")"
      ]
    },
    {
      "cell_type": "code",
      "source": [
        "#@title Launch WebUI\n",
        "import torch\n",
        "\n",
        "# Check for GPU availability\n",
        "if not torch.cuda.is_available():\n",
        "    print(\"Warning: GPU not detected. The WebUI may run slowly or fail. Ensure GPU runtime is enabled.\")\n",
        "else:\n",
        "    print(\"GPU detected:\", torch.cuda.get_device_name(0))\n",
        "\n",
        "# Launch the Gradio WebUI\n",
        "print(\"Starting the Gradio WebUI... This may take a few minutes.\")\n",
        "print(\"Once the URL appears, click it to access the interface.\")\n",
        "!python3.10 src/webui.py --share\n",
        "print(\"WebUI launched. If the Gradio URL does not appear, check the logs above for errors.\")"
      ],
      "metadata": {
        "cellView": "form",
        "id": "NEglTq6Ya9d0"
      },
      "execution_count": null,
      "outputs": []
    }
  ],
  "metadata": {
    "accelerator": "GPU",
    "colab": {
      "provenance": [],
      "include_colab_link": true
    },
    "kernelspec": {
      "display_name": "Python 3",
      "name": "python3"
    },
    "language_info": {
      "name": "python"
    }
  },
  "nbformat": 4,
  "nbformat_minor": 0
}