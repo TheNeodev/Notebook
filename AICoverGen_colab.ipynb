{
  "cells": [
    {
      "cell_type": "markdown",
      "metadata": {
        "id": "view-in-github",
        "colab_type": "text"
      },
      "source": [
        "<a href=\"https://colab.research.google.com/github/main/blob/TheNeodev/Notebook/AICoverGen_colab.ipynb\" target=\"_parent\"><img src=\"https://colab.research.google.com/assets/colab-badge.svg\" alt=\"Open In Colab\"/></a>"
      ]
    },
    {
      "cell_type": "markdown",
      "source": [
        "# AICoverGen Extension WebUI\n",
        "\n",
        "This notebook sets up the AICoverGen WebUI for generating AI-based vocal covers. It clones the repository, installs dependencies, downloads models, and launches a Gradio-based interface.\n",
        "\n",
        "## Prerequisites\n",
        "- **Google Colab GPU**: Ensure you have a GPU runtime enabled (`Runtime > Change runtime type > GPU`).\n",
        "- **Storage**: At least 10 GB of free space in your Colab environment.\n",
        "- **Time**: The setup process may take 5-10 minutes depending on the Colab environment.\n",
        "\n",
        "## Instructions\n",
        "1. Click `Runtime > Run all` to execute all cells sequentially.\n",
        "2. Wait for the final cell to output a public Gradio URL (e.g., `*.gradio.app`).\n",
        "3. Click the URL to access the WebUI.\n",
        "\n",
        "## Troubleshooting\n",
        "- **Gradio URL not appearing**: Ensure the `--share` flag is active and check for network errors in the output.\n",
        "- **Dependency errors**: Restart the runtime (`Runtime > Restart runtime`) and rerun all cells.\n",
        "- **GPU not available**: Verify GPU is enabled in the runtime settings.\n",
        "- **Out of memory**: Reduce model size or restart the runtime to clear memory.\n",
        "\n",
        "For issues, check the output logs below each cell or consult the [AICoverGen repository](https://github.com/hchuCrew/extension_AICoverGen) for documentation."
      ],
      "metadata": {
        "id": "YYVAKuNBc-X4"
      }
    },
    {
      "cell_type": "code",
      "execution_count": null,
      "metadata": {
        "id": "vC4gLMHI9xb3",
        "cellView": "form"
      },
      "outputs": [],
      "source": [
        "#@title Clone Repository\n",
        "from IPython.display import clear_output\n",
        "import subprocess\n",
        "\n",
        "# Clone the AICoverGen repository\n",
        "repo_url = \"https://github.com/unchCrew/extension_AICoverGen\"\n",
        "try:\n",
        "    subprocess.run([\"git\", \"clone\", repo_url, \"HRVC\"], check=True)\n",
        "    %cd HRVC\n",
        "    clear_output()\n",
        "    print(\"Successfully cloned the repository to ./HRVC\")\n",
        "except subprocess.CalledProcessError as e:\n",
        "    print(f\"Error cloning repository: {e}\")\n",
        "    raise\n",
        "except Exception as e:\n",
        "    print(f\"Unexpected error: {e}\")\n",
        "    raise"
      ]
    },
    {
      "cell_type": "code",
      "execution_count": null,
      "metadata": {
        "cellView": "form",
        "id": "odzpJHpr_PaF"
      },
      "outputs": [],
      "source": [
        "#@title Install Dependencies\n",
        "import subprocess\n",
        "from IPython.display import clear_output\n",
        "\n",
        "# Update system and install Python 3.10\n",
        "print(\"Updating system packages...\")\n",
        "subprocess.run([\"sudo\", \"apt-get\", \"update\"], check=True)\n",
        "subprocess.run([\"sudo\", \"apt-get\", \"install\", \"-y\", \"python3.10\", \"python3.10-dev\", \"python3.10-distutils\"], check=True)\n",
        "\n",
        "# Set Python 3.10 as default\n",
        "subprocess.run([\"sudo\", \"update-alternatives\", \"--install\", \"/usr/bin/python3\", \"python3\", \"/usr/bin/python3.10\", \"1\"], check=True)\n",
        "subprocess.run([\"sudo\", \"update-alternatives\", \"--set\", \"python3\", \"/usr/bin/python3.10\"], check=True)\n",
        "\n",
        "# Install pip for Python 3.10\n",
        "print(\"Installing pip for Python 3.10...\")\n",
        "subprocess.run([\"curl\", \"https://bootstrap.pypa.io/get-pip.py\", \"-o\", \"get-pip.py\"], check=True)\n",
        "subprocess.run([\"python3.10\", \"get-pip.py\"], check=True)\n",
        "\n",
        "# Upgrade pip\n",
        "subprocess.run([\"python3.10\", \"-m\", \"pip\", \"install\", \"--upgrade\", \"pip==24.0\"], check=True)\n",
        "\n",
        "# Install requirements from requirements.txt\n",
        "print(\"Installing Python dependencies...\")\n",
        "try:\n",
        "    subprocess.run([\"python3.10\", \"-m\", \"pip\", \"install\", \"-r\", \"requirements.txt\"], check=True)\n",
        "except subprocess.CalledProcessError as e:\n",
        "    print(f\"Error installing dependencies: {e}\")\n",
        "    raise\n",
        "\n",
        "# Install sox\n",
        "print(\"Installing sox...\")\n",
        "subprocess.run([\"sudo\", \"apt\", \"install\", \"-y\", \"sox\"], check=True)\n",
        "\n",
        "clear_output()\n",
        "print(\"All dependencies installed successfully.\")"
      ]
    },
    {
      "cell_type": "code",
      "execution_count": null,
      "metadata": {
        "cellView": "form",
        "id": "SLWpcJc0AHSZ"
      },
      "outputs": [],
      "source": [
        "#@title Download MDXNet Vocal Separation Models\n",
        "import subprocess\n",
        "from IPython.display import clear_output\n",
        "\n",
        "# Run the model download script\n",
        "print(\"Downloading vocal separation and Hubert base models...\")\n",
        "try:\n",
        "    subprocess.run([\"python3.10\", \"src/download_models.py\"], check=True)\n",
        "    clear_output()\n",
        "    print(\"Successfully downloaded vocal separation and Hubert base models.\")\n",
        "except subprocess.CalledProcessError as e:\n",
        "    print(f\"Error downloading models: {e}\")\n",
        "    raise"
      ]
    },
    {
      "cell_type": "code",
      "source": [
        "#@title Launch WebUI\n",
        "import subprocess\n",
        "from IPython.display import clear_output\n",
        "\n",
        "# Check for GPU availability\n",
        "try:\n",
        "    import torch\n",
        "    if not torch.cuda.is_available():\n",
        "        print(\"Warning: GPU not detected. The WebUI may run slowly or fail. Ensure GPU runtime is enabled.\")\n",
        "except ImportError:\n",
        "    print(\"* Warning: PyTorch not installed. Please rerun the dependency installation cell.\")\n",
        "\n",
        "# Launch the Gradio WebUI\n",
        "print(\"* Starting the Gradio WebUI... This may take a few minutes.\")\n",
        "print(\"* Once the URL appears, click it to access the interface.\")\n",
        "try:\n",
        "    subprocess.run([\"python3.10\", \"src/webui.py\", \"--share\"], check=True)\n",
        "except subprocess.CalledProcessError as e:\n",
        "    print(f\"Error launching WebUI: {e}\")\n",
        "    print(\"Try restarting the runtime and rerunning all cells.\")\n",
        "    raise\n",
        "except KeyboardInterrupt:\n",
        "    print(\"* WebUI stopped by user.\")\n",
        "clear_output()\n",
        "print(\" * WebUI launched. Check for the Gradio URL above.\")"
      ],
      "metadata": {
        "cellView": "form",
        "id": "NEglTq6Ya9d0"
      },
      "execution_count": null,
      "outputs": []
    }
  ],
  "metadata": {
    "accelerator": "GPU",
    "colab": {
      "provenance": [],
      "include_colab_link": true
    },
    "kernelspec": {
      "display_name": "Python 3",
      "name": "python3"
    },
    "language_info": {
      "name": "python"
    }
  },
  "nbformat": 4,
  "nbformat_minor": 0
}
